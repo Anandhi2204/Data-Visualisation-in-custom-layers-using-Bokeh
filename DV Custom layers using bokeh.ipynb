{
 "cells": [
  {
   "cell_type": "code",
   "execution_count": 2,
   "id": "d6132557",
   "metadata": {},
   "outputs": [],
   "source": [
    "from bokeh.plotting import figure, show\n",
    "from bokeh.models import ColumnDataSource\n",
    "import numpy as np"
   ]
  },
  {
   "cell_type": "code",
   "execution_count": 3,
   "id": "0c51a79e",
   "metadata": {},
   "outputs": [],
   "source": [
    "x = np.linspace(0, 10, 100)\n",
    "y = np.sin(x) + np.random.normal(0, 0.1, 100)"
   ]
  },
  {
   "cell_type": "code",
   "execution_count": 4,
   "id": "6929eef0",
   "metadata": {},
   "outputs": [],
   "source": [
    "window_size = 5\n",
    "y_smooth = np.convolve(y, np.ones(window_size)/window_size, mode='valid')\n",
    "x_smooth = x[window_size//2:len(x)-(window_size//2)]"
   ]
  },
  {
   "cell_type": "code",
   "execution_count": 5,
   "id": "f835838d",
   "metadata": {},
   "outputs": [],
   "source": [
    "source = ColumnDataSource(data=dict(x=x, y=y))\n",
    "smooth_source = ColumnDataSource(data=dict(x=x_smooth, y=y_smooth))"
   ]
  },
  {
   "cell_type": "code",
   "execution_count": 6,
   "id": "2b26b1d5",
   "metadata": {},
   "outputs": [],
   "source": [
    "p = figure(title=\"Custom Layers Example\", x_axis_label='X', y_axis_label='Y')"
   ]
  },
  {
   "cell_type": "code",
   "execution_count": 8,
   "id": "71000556",
   "metadata": {},
   "outputs": [
    {
     "data": {
      "text/html": [
       "<div style=\"display: table;\"><div style=\"display: table-row;\"><div style=\"display: table-cell;\"><b title=\"bokeh.models.renderers.GlyphRenderer\">GlyphRenderer</b>(</div><div style=\"display: table-cell;\">id&nbsp;=&nbsp;'1327', <span id=\"1342\" style=\"cursor: pointer;\">&hellip;)</span></div></div><div class=\"1341\" style=\"display: none;\"><div style=\"display: table-cell;\"></div><div style=\"display: table-cell;\">coordinates&nbsp;=&nbsp;None,</div></div><div class=\"1341\" style=\"display: none;\"><div style=\"display: table-cell;\"></div><div style=\"display: table-cell;\">data_source&nbsp;=&nbsp;ColumnDataSource(id='1232', ...),</div></div><div class=\"1341\" style=\"display: none;\"><div style=\"display: table-cell;\"></div><div style=\"display: table-cell;\">glyph&nbsp;=&nbsp;Line(id='1324', ...),</div></div><div class=\"1341\" style=\"display: none;\"><div style=\"display: table-cell;\"></div><div style=\"display: table-cell;\">group&nbsp;=&nbsp;None,</div></div><div class=\"1341\" style=\"display: none;\"><div style=\"display: table-cell;\"></div><div style=\"display: table-cell;\">hover_glyph&nbsp;=&nbsp;None,</div></div><div class=\"1341\" style=\"display: none;\"><div style=\"display: table-cell;\"></div><div style=\"display: table-cell;\">js_event_callbacks&nbsp;=&nbsp;{},</div></div><div class=\"1341\" style=\"display: none;\"><div style=\"display: table-cell;\"></div><div style=\"display: table-cell;\">js_property_callbacks&nbsp;=&nbsp;{},</div></div><div class=\"1341\" style=\"display: none;\"><div style=\"display: table-cell;\"></div><div style=\"display: table-cell;\">level&nbsp;=&nbsp;'glyph',</div></div><div class=\"1341\" style=\"display: none;\"><div style=\"display: table-cell;\"></div><div style=\"display: table-cell;\">muted&nbsp;=&nbsp;False,</div></div><div class=\"1341\" style=\"display: none;\"><div style=\"display: table-cell;\"></div><div style=\"display: table-cell;\">muted_glyph&nbsp;=&nbsp;Line(id='1326', ...),</div></div><div class=\"1341\" style=\"display: none;\"><div style=\"display: table-cell;\"></div><div style=\"display: table-cell;\">name&nbsp;=&nbsp;None,</div></div><div class=\"1341\" style=\"display: none;\"><div style=\"display: table-cell;\"></div><div style=\"display: table-cell;\">nonselection_glyph&nbsp;=&nbsp;Line(id='1325', ...),</div></div><div class=\"1341\" style=\"display: none;\"><div style=\"display: table-cell;\"></div><div style=\"display: table-cell;\">selection_glyph&nbsp;=&nbsp;'auto',</div></div><div class=\"1341\" style=\"display: none;\"><div style=\"display: table-cell;\"></div><div style=\"display: table-cell;\">subscribed_events&nbsp;=&nbsp;[],</div></div><div class=\"1341\" style=\"display: none;\"><div style=\"display: table-cell;\"></div><div style=\"display: table-cell;\">syncable&nbsp;=&nbsp;True,</div></div><div class=\"1341\" style=\"display: none;\"><div style=\"display: table-cell;\"></div><div style=\"display: table-cell;\">tags&nbsp;=&nbsp;[],</div></div><div class=\"1341\" style=\"display: none;\"><div style=\"display: table-cell;\"></div><div style=\"display: table-cell;\">view&nbsp;=&nbsp;CDSView(id='1328', ...),</div></div><div class=\"1341\" style=\"display: none;\"><div style=\"display: table-cell;\"></div><div style=\"display: table-cell;\">visible&nbsp;=&nbsp;True,</div></div><div class=\"1341\" style=\"display: none;\"><div style=\"display: table-cell;\"></div><div style=\"display: table-cell;\">x_range_name&nbsp;=&nbsp;'default',</div></div><div class=\"1341\" style=\"display: none;\"><div style=\"display: table-cell;\"></div><div style=\"display: table-cell;\">y_range_name&nbsp;=&nbsp;'default')</div></div></div>\n",
       "<script>\n",
       "(function() {\n",
       "  let expanded = false;\n",
       "  const ellipsis = document.getElementById(\"1342\");\n",
       "  ellipsis.addEventListener(\"click\", function() {\n",
       "    const rows = document.getElementsByClassName(\"1341\");\n",
       "    for (let i = 0; i < rows.length; i++) {\n",
       "      const el = rows[i];\n",
       "      el.style.display = expanded ? \"none\" : \"table-row\";\n",
       "    }\n",
       "    ellipsis.innerHTML = expanded ? \"&hellip;)\" : \"&lsaquo;&lsaquo;&lsaquo;\";\n",
       "    expanded = !expanded;\n",
       "  });\n",
       "})();\n",
       "</script>\n"
      ],
      "text/plain": [
       "GlyphRenderer(id='1327', ...)"
      ]
     },
     "execution_count": 8,
     "metadata": {},
     "output_type": "execute_result"
    }
   ],
   "source": [
    "p.scatter('x', 'y', source=source, size=8, color=\"blue\", legend_label=\"Scatter\")\n",
    "p.line('x', 'y', source=smooth_source, line_color=\"red\", line_width=2, legend_label=\"Smoothed Line\")"
   ]
  },
  {
   "cell_type": "code",
   "execution_count": 9,
   "id": "e69d6607",
   "metadata": {},
   "outputs": [],
   "source": [
    "p.legend.location = \"top_left\"\n",
    "p.legend.title = 'Legend'\n",
    "p.legend.title_text_font_style = \"bold\"\n",
    "p.legend.title_text_font_size = \"15pt\"\n",
    "p.legend.label_text_font_size = \"12pt\""
   ]
  },
  {
   "cell_type": "code",
   "execution_count": 10,
   "id": "c71cc192",
   "metadata": {},
   "outputs": [],
   "source": [
    "show(p)"
   ]
  },
  {
   "cell_type": "code",
   "execution_count": 11,
   "id": "1714c4c3",
   "metadata": {},
   "outputs": [],
   "source": [
    "from bokeh.plotting import figure, show\n",
    "from bokeh.models import ColumnDataSource\n",
    "import numpy as np\n",
    "\n"
   ]
  },
  {
   "cell_type": "code",
   "execution_count": 12,
   "id": "5b736049",
   "metadata": {},
   "outputs": [],
   "source": [
    "months = ['Jan', 'Feb', 'Mar', 'Apr', 'May', 'Jun']\n",
    "sales = [10000, 12000, 15000, 11000, 13000, 14000]"
   ]
  },
  {
   "cell_type": "code",
   "execution_count": null,
   "id": "cda6656c",
   "metadata": {},
   "outputs": [],
   "source": [
    "window_size = 3\n",
    "smooth_sales = np.convolve(sales, np.ones(window_size)/window_size, mode='valid')\n",
    "smooth_months = months[window_size//2:len(months)-(window_size//2)]"
   ]
  },
  {
   "cell_type": "code",
   "execution_count": null,
   "id": "92a4da3a",
   "metadata": {},
   "outputs": [],
   "source": [
    "source = ColumnDataSource(data=dict(months=months, sales=sales))\n",
    "smooth_source = ColumnDataSource(data=dict(months=smooth_months, sales=smooth_sales))"
   ]
  },
  {
   "cell_type": "code",
   "execution_count": null,
   "id": "229794fb",
   "metadata": {},
   "outputs": [],
   "source": [
    "p = figure(title=\"Monthly Sales\", x_axis_label='Month', y_axis_label='Sales', x_range=months)"
   ]
  },
  {
   "cell_type": "code",
   "execution_count": null,
   "id": "3feaafbf",
   "metadata": {},
   "outputs": [],
   "source": [
    "p.vbar(x='months', top='sales', width=0.5, color=\"blue\", source=source, legend_label=\"Monthly Sales\")\n",
    "p.line(x='months', y='sales', source=smooth_source, line_color=\"red\", line_width=2, legend_label=\"Smoothed Line\")"
   ]
  },
  {
   "cell_type": "code",
   "execution_count": 13,
   "id": "eea1c4c6",
   "metadata": {},
   "outputs": [],
   "source": [
    "p.legend.location = \"top_left\"\n",
    "p.legend.title = 'Legend'\n",
    "p.legend.title_text_font_style = \"bold\"\n",
    "p.legend.title_text_font_size = \"15pt\"\n",
    "p.legend.label_text_font_size = \"12pt\""
   ]
  },
  {
   "cell_type": "code",
   "execution_count": null,
   "id": "41a039fb",
   "metadata": {},
   "outputs": [],
   "source": [
    "show(p)"
   ]
  }
 ],
 "metadata": {
  "kernelspec": {
   "display_name": "Python 3 (ipykernel)",
   "language": "python",
   "name": "python3"
  },
  "language_info": {
   "codemirror_mode": {
    "name": "ipython",
    "version": 3
   },
   "file_extension": ".py",
   "mimetype": "text/x-python",
   "name": "python",
   "nbconvert_exporter": "python",
   "pygments_lexer": "ipython3",
   "version": "3.10.9"
  }
 },
 "nbformat": 4,
 "nbformat_minor": 5
}
